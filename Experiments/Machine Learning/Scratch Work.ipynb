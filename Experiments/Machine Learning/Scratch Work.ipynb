{
 "cells": [
  {
   "cell_type": "markdown",
   "metadata": {},
   "source": [
    "# Scratch Work\n",
    "\n",
    "---\n",
    "\n",
    "This notebook contains random experiments and notes from following papers and blog posts."
   ]
  },
  {
   "cell_type": "markdown",
   "metadata": {},
   "source": [
    "## Tiny Toy Neural Network\n",
    "\n",
    "---\n",
    "\n",
    "A tiny neural network implemented in 11 lines of Python. From [this](http://iamtrask.github.io/2015/07/12/basic-python-network/) blog post."
   ]
  },
  {
   "cell_type": "code",
   "execution_count": 11,
   "metadata": {
    "collapsed": false
   },
   "outputs": [
    {
     "name": "stdout",
     "output_type": "stream",
     "text": [
      "Initial Values: \n",
      "\tX = [[0 0 1]\n",
      " [0 1 1]\n",
      " [1 0 1]\n",
      " [1 1 1]]\n",
      "\ty = [[0]\n",
      " [1]\n",
      " [1]\n",
      " [0]]\n",
      "\tsyn0 = [[ 0.91590545 -0.94806528  0.01695345 -0.18998051]\n",
      " [ 0.50698293  0.05162586  0.76641477 -0.97749571]\n",
      " [-0.48071356 -0.46834165 -0.78358786 -0.75222207]]\n",
      "\tsyn1=[[-0.53169693]\n",
      " [ 0.80712138]\n",
      " [-0.83193282]\n",
      " [-0.3715532 ]]\n",
      "Final Results: \n",
      "\tsyn0 = [[ 1.46329772 -5.65697579 -0.54339385 -4.92637184]\n",
      " [-0.27361715  4.44157279  4.80025337 -4.08926529]\n",
      " [ 0.48011106 -2.32243    -1.77436997  1.27635772]], \n",
      "\tsyn1 = [[ 3.02941757]\n",
      " [ 6.89873956]\n",
      " [-5.27690891]\n",
      " [-5.53936796]]\n"
     ]
    }
   ],
   "source": [
    "import numpy as np\n",
    "\n",
    "X = np.array([ [0,0,1],[0,1,1],[1,0,1],[1,1,1] ])\n",
    "y = np.array([[0,1,1,0]]).T\n",
    "syn0 = 2 * np.random.random((3,4)) - 1\n",
    "syn1 = 2 * np.random.random((4,1)) - 1\n",
    "print(f\"Initial Values: \\n\\tX = {X}\\n\\ty = {y}\\n\\tsyn0 = {syn0}\\n\\tsyn1={syn1}\")\n",
    "for i in range(600):\n",
    "    l1 = 1 / ( 1 + np.exp(-(np.dot(X,syn0))))\n",
    "    l2 = 1/(1+np.exp(-(np.dot(l1,syn1))))\n",
    "    l2_delta = (y - l2) * (l2 * (1 - l2))\n",
    "    l1_delta = l2_delta.dot(syn1.T) * (l1 * (1 - l1))\n",
    "    syn1 += l1.T.dot(l2_delta)\n",
    "    syn0 += X.T.dot(l1_delta)\n",
    "print(f\"Final Results: \\n\\tsyn0 = {syn0}, \\n\\tsyn1 = {syn1}\")\n",
    "\n"
   ]
  },
  {
   "cell_type": "code",
   "execution_count": null,
   "metadata": {
    "collapsed": true
   },
   "outputs": [],
   "source": []
  }
 ],
 "metadata": {
  "kernelspec": {
   "display_name": "Python 3",
   "language": "python",
   "name": "python3"
  },
  "language_info": {
   "codemirror_mode": {
    "name": "ipython",
    "version": 3
   },
   "file_extension": ".py",
   "mimetype": "text/x-python",
   "name": "python",
   "nbconvert_exporter": "python",
   "pygments_lexer": "ipython3",
   "version": "3.6.2"
  }
 },
 "nbformat": 4,
 "nbformat_minor": 2
}
