{
 "cells": [
  {
   "cell_type": "markdown",
   "metadata": {},
   "source": [
    "# Cracking The Coding Interview Problems"
   ]
  },
  {
   "cell_type": "code",
   "execution_count": 4,
   "metadata": {
    "collapsed": true
   },
   "outputs": [],
   "source": [
    "# Global Imports\n",
    "import unittest #for unit tests"
   ]
  },
  {
   "cell_type": "markdown",
   "metadata": {},
   "source": [
    "## Chapter 1: Arrays, Strings, and Hashmaps\n",
    "---\n",
    "### Problem 1.1: isUnique\n",
    "isUnique: Implement an algorithm to determine if a string has all unique characters. What if you cannot use additional data structures."
   ]
  },
  {
   "cell_type": "code",
   "execution_count": 245,
   "metadata": {
    "collapsed": false
   },
   "outputs": [],
   "source": [
    "def isUnique(s):\n",
    "    'No External Data Structures used. Runtime O(n log n)'\n",
    "    if s is None or len(s) == 1: #Base Cases \n",
    "        return True\n",
    "    s = ''.join(sorted(s))\n",
    "    for i in range(len(s)-1):\n",
    "        if s[i] == s[i+1]:\n",
    "            #print(\"{}: String is not unique!\".format(s))\n",
    "            return False\n",
    "    #print(\"{}: String is unique!\".format(s))\n",
    "    return True\n",
    "\n",
    "def fastIsUnique(s):\n",
    "    'Uses a binary array. Runtime O(n). Space complexity O(n)'\n",
    "    if s is None or len(s) == 1:\n",
    "        return True\n",
    "    t = [0 for i in range(256)] # Array of 256 chars for ascii alphabet\n",
    "    assert(len(t) == 256)\n",
    "    for i in s:\n",
    "        k_code = ord(i)\n",
    "        if t[k_code] == 0:\n",
    "            t[k_code] = 1\n",
    "        else:\n",
    "            #print(\"{}: String is not unique!\".format(s))\n",
    "            return False\n",
    "    #print(\"{}: String is unique!\".format(s))\n",
    "    return True"
   ]
  },
  {
   "cell_type": "markdown",
   "metadata": {},
   "source": [
    "### Problem 1.2: Check Permutation\n",
    "Given two strings, write a method to decide if one is apermutation of the other"
   ]
  },
  {
   "cell_type": "code",
   "execution_count": 55,
   "metadata": {
    "collapsed": true
   },
   "outputs": [],
   "source": [
    "def isPermutation(s0,s1):\n",
    "    'Checks if s0 and s1 are permutations of eachother in O(n log n) time'\n",
    "    if s0 is None or s1 is None: \n",
    "        return False\n",
    "    assert(len(s0) == len(s1))\n",
    "    s0 = ''.join(sorted(s0))\n",
    "    s1 = ''.join(sorted(s1))\n",
    "    if s0 == s1:\n",
    "        return True\n",
    "    return False\n",
    "\n",
    "def fastIsPermutation(s0,s1):\n",
    "    'Checks if s0 and s1 are permutations of eachother in O(n) time'\n",
    "    if s0 is None or s1 is None:\n",
    "        return False\n",
    "    assert(len(s0) == len(s1))\n",
    "    t_set = set(s0)\n",
    "    for i in s1:\n",
    "        if not i in t_set:\n",
    "            return False\n",
    "    return True"
   ]
  },
  {
   "cell_type": "markdown",
   "metadata": {},
   "source": [
    "### Problem 1.3: URLify\n",
    "Write a method to replace all spaces in a string with '%20'."
   ]
  },
  {
   "cell_type": "code",
   "execution_count": 238,
   "metadata": {
    "collapsed": false
   },
   "outputs": [],
   "source": [
    "def URLIfy(s, size):\n",
    "    'Looks for white spaces in char array and replaces them with %20d'\n",
    "    assert(len(s) == size)\n",
    "    if size == 0: return None\n",
    "    s = list(s) #Create a python 'char array'\n",
    "    res = [] # Auxillery D.S.\n",
    "    for i in range(size):\n",
    "        if size > 0:\n",
    "            if s[i] == ' ':\n",
    "                res.append('%20')\n",
    "            else:\n",
    "                res.append(s[i])\n",
    "            size -= 1\n",
    "    return ''.join(res)\n",
    "\n",
    "def optomizedURLIfy(s, size):\n",
    "    'Optimized to perform same operation with no additional space'\n",
    "    if size == 0: return None\n",
    "    s = list(s)\n",
    "    for i in range(size):\n",
    "        if size > 0 and s[i] == ' ':\n",
    "            s[i+3:len(s)] = s[i+1:len(s)-3]\n",
    "            s[i:i+3] = '%20'\n",
    "        size -= 1\n",
    "    return ''.join(s)\n"
   ]
  },
  {
   "cell_type": "markdown",
   "metadata": {},
   "source": [
    "### 1.4 Palindrome Permutation\n",
    "Given a string, write a function to check if it is a **permutation** of a palindrome"
   ]
  },
  {
   "cell_type": "code",
   "execution_count": 239,
   "metadata": {
    "collapsed": false
   },
   "outputs": [],
   "source": [
    "def palindromePermutation(s):\n",
    "    if s is None: return False\n",
    "    if len(s) == 1: return True #I think a 1 char string is a palindrome?\n",
    "    ignore_chars_list = set(['!',',','.','-','\\\"','\\'',' ']) # Set used instead of list for O(1) access time\n",
    "    char_table = {}\n",
    "    for i in s:\n",
    "        if i in ignore_chars_list:\n",
    "            continue\n",
    "        i = i.lower()\n",
    "        if i not in char_table:\n",
    "            char_table[i] = 1\n",
    "        else:\n",
    "            char_table[i] += 1\n",
    "    odd_count = 0\n",
    "    for k,v in char_table.items(): \n",
    "        #print(\"k: {}, count = {}\".format(k,v))\n",
    "        if v % 2 != 0:\n",
    "            if odd_count == 1:\n",
    "                return False\n",
    "            else:\n",
    "                odd_count = 1\n",
    "    return True"
   ]
  },
  {
   "cell_type": "markdown",
   "metadata": {},
   "source": [
    "### 1.5 One Away\n",
    "Given three types of edits which can be performed on strings: insert, remove, or replace a character and given two strings, check if they are one edit away."
   ]
  },
  {
   "cell_type": "code",
   "execution_count": 240,
   "metadata": {
    "collapsed": false
   },
   "outputs": [],
   "source": [
    "def oneAway(s0, s1):\n",
    "    'Given the set of rules above, checks of the strings are valid manipulations of eachother. (reflective property holds here)'\n",
    "    if s0 is None or s1 is None: return False\n",
    "    #print(\"One Away: s0 = {}, s1 = {}\".format(s0, s1))\n",
    "    tbl = set(s0)\n",
    "    score = 0\n",
    "    for i in s1:\n",
    "        if i in tbl: \n",
    "            score += 1\n",
    "    #print(\"\\tscore - min: {}\".format(min(len(s0),len(s1)) - score))\n",
    "    if min(len(s0),len(s1)) - score <= 1:\n",
    "        return True\n",
    "    return False"
   ]
  },
  {
   "cell_type": "markdown",
   "metadata": {},
   "source": [
    "### 1.6 String Compression\n",
    "Implement a method to perform basic string compression using the counts of repeated characters. If the compressed string is larger then the original string, return the orignal string.\n",
    "$$ \\text{Example: aabcccccaaa} \\rightarrow \\text{a2b1c5a3} $$"
   ]
  },
  {
   "cell_type": "code",
   "execution_count": 241,
   "metadata": {
    "collapsed": false
   },
   "outputs": [],
   "source": [
    "def compressString(s):\n",
    "    if s is None: return None\n",
    "    if len(s) <= 2: return s\n",
    "    temp = []\n",
    "    count = 0\n",
    "    for i in range(len(s)):\n",
    "        #print(\"[{}]: s[i] = {}, s[i+1] = {}\".format(i, s[i],s[i+1]))\n",
    "        count += 1\n",
    "        #print(\"i = {}. Range = {}\".format(i, range(len(s)-1)))\n",
    "        if i+1 == len(s) or s[i+1] != s[i]:\n",
    "            temp.append(s[i]+str(count))\n",
    "            if i+1 == len(s): \n",
    "                break\n",
    "            count = 0\n",
    "    if len(temp) < len(s):\n",
    "        return ''.join(temp)\n",
    "    else:\n",
    "        return s"
   ]
  },
  {
   "cell_type": "markdown",
   "metadata": {},
   "source": [
    "### 1.7 Rotate Matrix\n",
    "Given an image represented by an **N x N** Matrix, where each pixel in the image is 4 bytes, write a method to rotate the image by 90 degrees. Can it be done in place?\n",
    "\n",
    "_note_: Since this is python, we don't really need to care about what the data inside the matrix is composed of"
   ]
  },
  {
   "cell_type": "code",
   "execution_count": 309,
   "metadata": {
    "collapsed": false
   },
   "outputs": [],
   "source": [
    "from itertools import zip_longest\n",
    "import operator\n",
    "# Simple Matrix Class\n",
    "class Matrix(object):\n",
    "    def __init__(self, data):\n",
    "        self.rows = len(data)\n",
    "        self.cols = len(data[0])\n",
    "        self.mat = data\n",
    "    def __str__(self): \n",
    "        return str(self.mat)\n",
    "    # Super unsafe and error prone access methods\n",
    "    def __getitem__(self,key):\n",
    "        return self.mat[key]\n",
    "    def __setitem__(self, key, value):\n",
    "        self.mat[key] = value\n",
    "    def __eq__(self, other):\n",
    "        return self.mat == other.get_matrix()\n",
    "    def get_rows(self): return self.rows\n",
    "    def get_cols(self): return self.cols\n",
    "    def get_matrix(self): return self.mat\n",
    "    def transposeMatrix(self):\n",
    "        self.mat = list(map(list, zip(*self.mat)))\n",
    "        self.rows = len(self.mat)\n",
    "        self.cols = len(self.mat[0])\n",
    "        return self\n",
    "    def T(self):\n",
    "        self.transposeMatrix()\n",
    "        return self\n",
    "    def rotate_90degCW(self):\n",
    "        for i in range(self.rows):\n",
    "            self.mat[i] = self.mat[i][::-1]\n",
    "        return self\n",
    "    def is_square(self):\n",
    "        return self.rows == self.cols\n",
    "    @staticmethod\n",
    "    def transpose(mat):\n",
    "        return list(map(list, zip_longest(*mat)))\n",
    "    @staticmethod\n",
    "    def rotate(mat):\n",
    "        try:\n",
    "            for i in range(mat.rows):\n",
    "                mat[i] = mat[i][::-1]\n",
    "        except Exception as e: print(\"Error: {}\".format(e))\n",
    "        return mat\n",
    "\n",
    "def rotateMatrix(mat):\n",
    "    m = Matrix(mat)\n",
    "    assert(m.is_square())\n",
    "    return m.transposeMatrix().rotate_90degCW()"
   ]
  },
  {
   "cell_type": "markdown",
   "metadata": {},
   "source": [
    "### 1.8 Zero Matrix\n",
    "Write an algorithm such that if an element in an **M x N** matrix is 0, its entire row and column are set to 0."
   ]
  },
  {
   "cell_type": "code",
   "execution_count": 341,
   "metadata": {
    "collapsed": false
   },
   "outputs": [],
   "source": [
    "def zeroMatrix(mat):\n",
    "    last = (-1,-1)\n",
    "    first = last\n",
    "    M = mat.get_rows()\n",
    "    N = mat.get_cols()    \n",
    "    # Set Locations for zeroing\n",
    "    for i in range(M,0,-1):\n",
    "        for j in range(N,0,-1):\n",
    "            m_i = i - 1\n",
    "            m_j = j -1\n",
    "            if mat[m_i][m_j] == 0:\n",
    "                mat[m_i][m_j] = last\n",
    "                if last == (-1,-1):\n",
    "                    first = (m_i,m_j)\n",
    "                last = (m_i,m_j)\n",
    "    #print(\"last = {}, first = {},\\nMatrix = {}\".format(last,first,mat))\n",
    "    while last != (-1,-1):\n",
    "        i,j = last\n",
    "        tmp = mat[i][j]\n",
    "        # Zero out row\n",
    "        mat[i] = [0]*(M+1)#[0 for i in range(M+1)]\n",
    "        # Transpose\n",
    "        mat.T()\n",
    "        # Zero out column\n",
    "        mat[j] = [0]*mat.get_cols()#[0 for i in range(mat.get_cols())]\n",
    "        # Inverse Transpose\n",
    "        mat.T()\n",
    "        last = tmp\n",
    "        #print(\"\\tFinal Format: rows = {}, cols = {}\".format(mat.get_rows(),mat.get_cols()))\n",
    "    #print(\"\\tResult: {}\\n\".format(mat))\n",
    "    return mat"
   ]
  },
  {
   "cell_type": "markdown",
   "metadata": {},
   "source": [
    "# 1.9 Rotated String\n",
    "---\n",
    "\n",
    "Given a string s1, and a rotated string s2, and the function isSubstring(...,...), determine if s2 is a rotation of s1:\n",
    "$$ \\text{EX} \\text{waterbottler} \\rightarrow \\text{erbottleraw} $$"
   ]
  },
  {
   "cell_type": "code",
   "execution_count": 339,
   "metadata": {
    "collapsed": false
   },
   "outputs": [
    {
     "name": "stdout",
     "output_type": "stream",
     "text": [
      "True\n"
     ]
    }
   ],
   "source": [
    "def isRotatedString(s0,s1):\n",
    "    isSubstring = lambda x,y: x in y\n",
    "    return isSubstring(s0, s1+s1)\n",
    "\n",
    "s0 = \"waterbottle\"\n",
    "s1 = \"erbottlewat\"\n",
    "print(isRotatedString(s0,s1))"
   ]
  },
  {
   "cell_type": "markdown",
   "metadata": {},
   "source": [
    "### Chapter 1 Unit Tests\n",
    "---"
   ]
  },
  {
   "cell_type": "code",
   "execution_count": 337,
   "metadata": {
    "collapsed": false
   },
   "outputs": [],
   "source": [
    "# Chapter 1 Testing\n",
    "\n",
    "### Question 1\n",
    "class ChapterOneQuestionOneTests(unittest.TestCase):\n",
    "    #No External D.S. O(n log n)\n",
    "    def test_isUnique_empty(self):\n",
    "        self.assertTrue(isUnique(None))\n",
    "    def test_isUnique_1elem(self):\n",
    "        self.assertTrue(isUnique('b'))\n",
    "    def test_isUnique_true(self):\n",
    "        self.assertTrue(isUnique('bacdfgh'))\n",
    "    def test_isUnique_false(self):\n",
    "        self.assertFalse(isUnique('abccdeefg'))\n",
    "# Fast Test\n",
    "class ChapterOneQuestionOneFastTest(unittest.TestCase):\n",
    "    ####\n",
    "    #External D.S. Used O(n)\n",
    "    ####\n",
    "    def test_fastisUnique_empty(self):\n",
    "        self.assertTrue(fastIsUnique(None))\n",
    "    def test_fastisUnique_1elem(self):\n",
    "        self.assertTrue(fastIsUnique('b'))\n",
    "    def test_fastisUnique_true(self):\n",
    "        self.assertTrue(fastIsUnique('bacdfgh'))\n",
    "    def test_fastisUnique_false(self):\n",
    "        self.assertFalse(fastIsUnique('abccdeefg'))\n",
    "\n",
    "### Question 2\n",
    "class ChapterOneQuestionTwoTests(unittest.TestCase):\n",
    "    # No External D.S. O(n log n)\n",
    "    def test_isPermutation_empty(self):\n",
    "        self.assertFalse(isPermutation(None, 'abcedfweea'))\n",
    "    def test_isPermutation_oneitem_1(self):\n",
    "        self.assertTrue(isPermutation('a','a'))\n",
    "    def test_isPermutation_oneitem_2(self):\n",
    "        self.assertFalse(isPermutation('a','b'))\n",
    "    def test_isPermutation_oneitem_3(self):\n",
    "        self.assertFalse(isPermutation('b','a'))\n",
    "    def test_isPermutation_normal_1(self):\n",
    "        self.assertTrue(isPermutation('abcde','ecbad'))\n",
    "    def test_isPermutation_normal_2(self):\n",
    "        self.assertFalse(isPermutation('abcde', 'azcdf'))\n",
    "    def test_isPermutation_normal_3(self):\n",
    "        self.assertTrue(isPermutation('abccde', 'ecbacd'))\n",
    "        \n",
    "# Fast\n",
    "class ChapterOneQuestionTwoFastTests(unittest.TestCase):\n",
    "    # No External D.S. O(n log n)\n",
    "    def test_isPermutation_empty(self):\n",
    "        self.assertFalse(fastIsPermutation(None, 'abcedfweea'))\n",
    "    def test_isPermutation_oneitem_1(self):\n",
    "        self.assertTrue(fastIsPermutation('a','a'))\n",
    "    def test_isPermutation_oneitem_2(self):\n",
    "        self.assertFalse(fastIsPermutation('a','b'))\n",
    "    def test_isPermutation_oneitem_3(self):\n",
    "        self.assertFalse(fastIsPermutation('b','a'))\n",
    "    def test_isPermutation_normal_1(self):\n",
    "        self.assertTrue(fastIsPermutation('abcde','ecbad'))\n",
    "    def test_isPermutation_normal_2(self):\n",
    "        self.assertFalse(fastIsPermutation('abcde', 'azcdf'))\n",
    "    def test_isPermutation_normal_3(self):\n",
    "        self.assertTrue(isPermutation('abccde', 'ecbacd'))\n",
    "\n",
    "class ChapterOneQuestion3Tests(unittest.TestCase):\n",
    "    def test_URLIfy_1elem_1(self):\n",
    "        s = 'a'\n",
    "        self.assertEqual(URLIfy(s, len(s)), 'a')\n",
    "    def test_URLIfy_1elem_2(self):\n",
    "        s = ' '\n",
    "        self.assertEqual(URLIfy(s, len(s)), '%20')\n",
    "    def test_URLIfy_2elem_1(self):\n",
    "        s = 'a '\n",
    "        self.assertEqual(URLIfy(s, len(s)), 'a%20')\n",
    "    def test_URLIfy_2elem_2(self):\n",
    "        s = ' a'\n",
    "        self.assertEqual(URLIfy(s, len(s)), '%20a')\n",
    "    def test_URLIfy_normal_2(self):\n",
    "        s = 'Mr John Smith'\n",
    "        self.assertEqual(URLIfy(s, len(s)), 'Mr%20John%20Smith')\n",
    "        \n",
    "class ChapterOneQuestion3OptomizedTests(unittest.TestCase):\n",
    "    \n",
    "    def test_URLIfy_1elem_1(self):\n",
    "        s = 'a'\n",
    "        res = optomizedURLIfy(s, len(s))\n",
    "        self.assertEqual(res, 'a')\n",
    "    def test_URLIfy_1elem_2(self):\n",
    "        s = '   '\n",
    "        res = optomizedURLIfy(s, 1)\n",
    "        self.assertEqual(res, '%20')\n",
    "    def test_URLIfy_2elem_1(self):\n",
    "        s = 'a    '\n",
    "        self.assertEqual(optomizedURLIfy(s, 2), 'a%20')\n",
    "    def test_URLIfy_2elem_2(self):\n",
    "        s = ' a   '\n",
    "        self.assertEqual(optomizedURLIfy(s, 2), '%20a')\n",
    "    def test_URLIfy_normal_2(self):\n",
    "        s = 'Mr John Smith      '\n",
    "        self.assertEqual(optomizedURLIfy(s, 13), 'Mr%20John%20Smith')\n",
    "\n",
    "# A good list for more test: http://www.palindromelist.net/\n",
    "class ChapterOneQuestion4Tests(unittest.TestCase):\n",
    "    def test_t0(self):\n",
    "        self.assertTrue(palindromePermutation(\" \"))\n",
    "    def test_t1(self):\n",
    "        self.assertTrue(palindromePermutation(\"r\"))\n",
    "    def test_t2(self):\n",
    "        self.assertTrue(palindromePermutation(\"Tact Coa\"))\n",
    "    def test_t3(self):\n",
    "        self.assertFalse(palindromePermutation(\"Red rum\"))\n",
    "    def test_t4(self):\n",
    "        self.assertTrue(palindromePermutation(\"A but tuba\"))\n",
    "    def test_t5(self):\n",
    "        self.assertTrue(palindromePermutation(\"A Toyota! Race fast, safe car! A Toyota!\"))\n",
    "    def test_t6(self):\n",
    "        self.assertFalse(palindromePermutation(\"bfe\"))\n",
    "\n",
    "class ChapterOneQuestion5Tests(unittest.TestCase):\n",
    "    def test_t0(self):\n",
    "        self.assertTrue(oneAway(\"pale\",\"ple\"))\n",
    "    def test_t1(self):\n",
    "        self.assertTrue(oneAway(\"pales\", \"pale\"))\n",
    "    def test_t2(self):\n",
    "        self.assertTrue(oneAway(\"pale\", \"bale\"))\n",
    "    def test_t3(self):\n",
    "        self.assertFalse(oneAway(\"pale\", \"bake\"))\n",
    "    def test_t4(self):\n",
    "        self.assertTrue(oneAway(\"fo\", \"f\"))\n",
    "    def test_t5(self):\n",
    "        self.assertTrue(oneAway(\"f\", \"r\"))\n",
    "\n",
    "class ChapterOneQuestion6Tests(unittest.TestCase):\n",
    "    def test_t0(self):\n",
    "        self.assertEqual(compressString(\"aabcccccaaa\"),\"a2b1c5a3\")\n",
    "    def test_t1(self):\n",
    "        self.assertEqual(compressString(\"aa\"),\"aa\")\n",
    "    def test_t2(self):\n",
    "        self.assertEqual(compressString(\"aaa\"),\"a3\")\n",
    "class ChapterOneQuestion7Tests(unittest.TestCase):\n",
    "    def test_t0(self):\n",
    "        self.assertEqual(rotateMatrix([[1,2],[3,4]]).get_matrix(),Matrix([[3,1],[4,2]]).get_matrix())\n",
    "    def test_t1(self):\n",
    "        self.assertEqual(rotateMatrix([[1,2,3],[4,5,6],[7,8,9]]).get_matrix(), Matrix([[7, 4, 1], [8, 5, 2], [9, 6, 3]]).get_matrix())\n",
    "class ChapterOneQuestion8Tests(unittest.TestCase):\n",
    "    def test_t0(self):\n",
    "        m = Matrix([[1,0,3,4],[2,1,0,5],[0,7,9,12]])\n",
    "        self.assertEqual(zeroMatrix(m),Matrix([[0, 0, 0, 0], [0, 0, 0, 0], [0, 0, 0, 0]]))\n",
    "    def test_t1(self):\n",
    "        m = Matrix([[1,0,3,4],[2,1,3,5],[0,7,9,12]])\n",
    "        self.assertEqual(zeroMatrix(m), Matrix([[0, 0, 0, 0], [0, 0, 3, 5], [0, 0, 0, 0]]))\n",
    "    def test_t2(self):\n",
    "        m = Matrix([[1,2,3,4],[5,6,7,8],[9,10,11,12]])\n",
    "        self.assertEqual(zeroMatrix(m), Matrix([[1, 2, 3, 4], [5, 6, 7, 8], [9, 10, 11, 12]]))\n",
    "    def test_t3(self):\n",
    "        m = Matrix([[1,2],[3,4]])\n",
    "        self.assertEqual(zeroMatrix(m), Matrix([[1, 2], [3, 4]]))\n",
    "    def test_t4(self):\n",
    "        m = Matrix([[1,0],[3,4]])\n",
    "        self.assertEqual(zeroMatrix(m), Matrix([[0, 0], [3, 0]]))\n",
    "    def test_t5(self):\n",
    "        m = Matrix([[1,2,3],[4,0,6],[7,8,9]])\n",
    "        self.assertEqual(zeroMatrix(m), Matrix([[1,0,3],[0,0,0],[7,0,9]]))"
   ]
  },
  {
   "cell_type": "markdown",
   "metadata": {},
   "source": [
    "### Run All Unit Tests"
   ]
  },
  {
   "cell_type": "code",
   "execution_count": 342,
   "metadata": {
    "collapsed": false
   },
   "outputs": [
    {
     "name": "stderr",
     "output_type": "stream",
     "text": [
      "........................................................\n",
      "----------------------------------------------------------------------\n",
      "Ran 56 tests in 0.085s\n",
      "\n",
      "OK\n"
     ]
    }
   ],
   "source": [
    "# Run Tests\n",
    "if __name__ == \"__main__\":\n",
    "    unittest.main(argv=['first-arg-is-ignored'], exit=False)"
   ]
  },
  {
   "cell_type": "code",
   "execution_count": null,
   "metadata": {
    "collapsed": true
   },
   "outputs": [],
   "source": []
  }
 ],
 "metadata": {
  "kernelspec": {
   "display_name": "Python 3",
   "language": "python",
   "name": "python3"
  },
  "language_info": {
   "codemirror_mode": {
    "name": "ipython",
    "version": 3
   },
   "file_extension": ".py",
   "mimetype": "text/x-python",
   "name": "python",
   "nbconvert_exporter": "python",
   "pygments_lexer": "ipython3",
   "version": "3.6.0"
  }
 },
 "nbformat": 4,
 "nbformat_minor": 2
}
